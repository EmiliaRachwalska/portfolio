{
 "cells": [
  {
   "cell_type": "markdown",
   "id": "c2cbac42-fe98-4bc5-b045-fb796b82d7e6",
   "metadata": {},
   "source": [
    "In this assignment you will write some functions and combine them to implement the classic [Hangman](https://en.wikipedia.org/wiki/Hangman_(game)) game, in which a player has to find a secret word by guessing one letter at a time."
   ]
  },
  {
   "cell_type": "markdown",
   "id": "701ec87a-c8a1-4df6-bfdf-4c8d1b064147",
   "metadata": {},
   "source": [
    "**Inputs:**\n",
    "- `secret_word` (string): The word that the player has to guess\n",
    "- `help` (boolean): Represents if the game will be played with the help functionality (see below).\n",
    "\n",
    "Calling `play_game` starts up an interactive game between the user and the computer. The game plays as follows.\n",
    "\n",
    "**Game setup:**\n",
    "1. Start the game by displaying we're playing Hangman.\n",
    "2. Display how many letters `secret_word` contains.\n",
    "3. A line of **exactly 15** dashes (---------------) to separate the header from the rest of the game.\n",
    "4. A player starts with **10** guesses. \n",
    "\n",
    "\n",
    "**Play turn:**\n",
    "1. Before each guess, you should display to the player:\n",
    "   - How many guesses the player has remaining.\n",
    "   - All the letters that have not yet been guessed.\n",
    "2. Ask the user to supply one guess at a time.\n",
    "   - The user can type any number, symbol, or letter. Your code should only accept lowercase single letters as valid guesses.\n",
    "   - If the game is played with the help, your code should also accept the help character (`!`). See instructions below.\n",
    "3. Immediately after each guess, you should display:\n",
    "   - Whether or not the letter is in the secret word (see the example implementation below).\n",
    "   - The word with guessed letters revealed and unguessed letters as asterisks (`*`).\n",
    "4. End the guess with a line of **exactly 15** dashes (---------------) to separate the guesses.\n",
    "\n",
    "**Guesses remaining:**\n",
    "If the user inputs: \n",
    "1. Anything besides a lowercase single letter in the alphabet (e.g. symbols or numbers), tell the user that they can only input an alphabet letter. The user loses **no** guesses. **Note**: when the game is played with the help, `!` is also a valid input.\n",
    "2. A letter that has already been guessed, print a message telling the user the letter has already been guessed before. The user loses **no** guesses.\n",
    "3. A letter that hasn't been guessed before and is in the secret word, the user loses **no** guesses.\n",
    "4. **Consonants**: If the user inputs a consonant that hasn't been guessed and the consonant is not in the secret word, the user loses one guess.\n",
    "5. **Vowels**: If the user inputs a vowel that hasn't been guessed and the vowel is not in the secret word, the user loses **two** guesses. Vowels are `a`, `e`, `i`, `o` and `u`. The letter `y` does not count as a vowel. **Note**: if a user inputs an incorrect vowel that hasn't been guessed and there is only one guess remaining, the user loses and the game is over."
   ]
  },
  {
   "cell_type": "raw",
   "id": "9179bd19-403d-4020-ae2b-b5d573a8ed63",
   "metadata": {},
   "source": [
    "HELPER FUNCTIONS:"
   ]
  },
  {
   "cell_type": "code",
   "execution_count": 2,
   "id": "6100a2a4-a929-4c1a-ab1f-801941bed4ad",
   "metadata": {},
   "outputs": [],
   "source": [
    "def has_player_won(secret_word, letters_guessed):\n",
    "    \"\"\"\n",
    "    Determine if the player has guessed all letters in the secret word.\n",
    "    \"\"\"\n",
    "    correct_list=[]\n",
    "    for letter in secret_word:\n",
    "        if not(letter in correct_list):\n",
    "            correct_list.append(letter)\n",
    "    for letter in correct_list:\n",
    "        if not(letter in letters_guessed):\n",
    "            return False\n",
    "    return True"
   ]
  },
  {
   "cell_type": "code",
   "execution_count": 4,
   "id": "079db82d-48f2-4407-832d-0f4688c4ea2d",
   "metadata": {},
   "outputs": [],
   "source": [
    "def word_progress(secret_word, letters_guessed):\n",
    "    \"\"\"\n",
    "    Reveal the guessed letters of the secret word.\n",
    "    \"\"\"\n",
    "    progress =\"\"\n",
    "    for letter in secret_word:\n",
    "        if letter in letters_guessed:\n",
    "            progress+=letter\n",
    "        else:\n",
    "            progress+=\"*\"\n",
    "    return progress"
   ]
  },
  {
   "cell_type": "code",
   "execution_count": 6,
   "id": "ecf971f3-94fa-4684-a21a-2947bf89c6a6",
   "metadata": {},
   "outputs": [],
   "source": [
    "def available_letters(letters_guessed):\n",
    "    \"\"\"\n",
    "    Determine which letters have not been guessed yet.\n",
    "    \"\"\"\n",
    "\n",
    "    ascii_lowercase = 'abcdefghijklmnopqrstuvwxyz'\n",
    "    left_letters = \"\"\n",
    "    for letter in ascii_lowercase:\n",
    "        if not(letter in letters_guessed):\n",
    "            left_letters+=letter\n",
    "\n",
    "    return left_letters"
   ]
  },
  {
   "cell_type": "code",
   "execution_count": 8,
   "id": "ef7ba7a4-5987-41b2-8a6f-cf44e9b5c0a4",
   "metadata": {},
   "outputs": [],
   "source": [
    "def valid_guess(guess, letters_guessed):\n",
    "    \"\"\"\n",
    "    Checks if the guess is a single valid lowercase letter not guessed before.\n",
    "    \"\"\"\n",
    "\n",
    "    ascii_lowercase = 'abcdefghijklmnopqrstuvwxyz'\n",
    "    if (guess in ascii_lowercase) and not(guess in letters_guessed) and (len(guess)==1):\n",
    "        return True\n",
    "    else:\n",
    "        return False"
   ]
  },
  {
   "cell_type": "code",
   "execution_count": 10,
   "id": "f84794e7-c111-4158-aed7-c4c872355c03",
   "metadata": {},
   "outputs": [],
   "source": [
    "import random\n",
    "\n",
    "def reveal_letter(secret_word, available_letters):\n",
    "    \"\"\"\n",
    "    Reveals an random unguessed letter from secret word.\n",
    "    \"\"\"\n",
    "\n",
    "    letters_to_pick_from=[]\n",
    "    for letter in secret_word:\n",
    "        if letter in available_letters:\n",
    "            letters_to_pick_from.append(letter)\n",
    "    if letters_to_pick_from==[]:\n",
    "        return None\n",
    "    else:\n",
    "        return random.choice(letters_to_pick_from)"
   ]
  },
  {
   "cell_type": "code",
   "execution_count": 15,
   "id": "0f9bee9e-5908-4869-83a7-747017ee81e6",
   "metadata": {},
   "outputs": [],
   "source": [
    "def play_game(secret_word, help = False):\n",
    "    \"\"\"\n",
    "    Play hangman against the computer.\n",
    "    \"\"\"\n",
    "    i=10\n",
    "    letters_guessed = []\n",
    "    print(\"Let's play Hangman!\")\n",
    "    print(f\"I am thinking of a word that is {len(secret_word)} letters long.\")\n",
    "    print('-'*15)\n",
    "    while i>0 and has_player_won(secret_word, letters_guessed)==False:\n",
    "        print(f\"You currently have {i} guesses left\")\n",
    "        available_letters_v = available_letters(letters_guessed)\n",
    "        print(f\"Available letters: {available_letters_v}\")\n",
    "        guess = input(\"Please guess a letter: \")\n",
    "        if guess==\"!\" and help==True:\n",
    "            if i>=3:\n",
    "                r_letter = reveal_letter(secret_word, available_letters_v)\n",
    "                letters_guessed.append(r_letter)\n",
    "                print(f\"Letter revealed: {r_letter}\")\n",
    "                print(word_progress(secret_word, letters_guessed))\n",
    "                i-=3\n",
    "            else:\n",
    "                print(f\"Oops! Not enough guesses left: {word_progress(secret_word, letters_guessed)}\")\n",
    "        elif valid_guess(guess, letters_guessed) == False:\n",
    "            if not(guess in 'abcdefghijklmnopqrstuvwxyz') or guess==\"\":\n",
    "                print(f\"Oops! That is not a valid letter. Please enter a letter from the alphabet : {word_progress(secret_word, letters_guessed)}\")\n",
    "            elif guess in letters_guessed:\n",
    "                print(f\"Oops! You've already guessed that letter: {word_progress(secret_word, letters_guessed)}\")\n",
    "        else:\n",
    "            letters_guessed.append(guess)\n",
    "            if guess in secret_word:\n",
    "                print(f\"Good guess: {word_progress(secret_word, letters_guessed)}\")\n",
    "            else:\n",
    "                print(f\"Oops! That letter is not in my word: {word_progress(secret_word, letters_guessed)}\")\n",
    "                if guess in \"aeiou\":\n",
    "                    i-=2\n",
    "                else:\n",
    "                    i-=1 \n",
    "        print(\"-\"*15) \n",
    "    if has_player_won(secret_word, letters_guessed) == True:\n",
    "        print(\"Congratulations, you won!\")\n",
    "    else:\n",
    "        print(f\"Sorry, you ran out of guesses. The word was {secret_word}\")"
   ]
  },
  {
   "cell_type": "markdown",
   "id": "918545cf-c2c1-4422-b9de-657209c7a6ff",
   "metadata": {},
   "source": [
    "*EXAMPLE*"
   ]
  },
  {
   "cell_type": "code",
   "execution_count": 18,
   "id": "241db9e5-28d2-49c2-91d1-1a8348844694",
   "metadata": {},
   "outputs": [
    {
     "name": "stdout",
     "output_type": "stream",
     "text": [
      "Let's play Hangman!\n",
      "I am thinking of a word that is 3 letters long.\n",
      "---------------\n",
      "You currently have 10 guesses left\n",
      "Available letters: abcdefghijklmnopqrstuvwxyz\n"
     ]
    },
    {
     "name": "stdin",
     "output_type": "stream",
     "text": [
      "Please guess a letter:  d\n"
     ]
    },
    {
     "name": "stdout",
     "output_type": "stream",
     "text": [
      "Oops! That letter is not in my word: ***\n",
      "---------------\n",
      "You currently have 9 guesses left\n",
      "Available letters: abcefghijklmnopqrstuvwxyz\n"
     ]
    },
    {
     "name": "stdin",
     "output_type": "stream",
     "text": [
      "Please guess a letter:  e\n"
     ]
    },
    {
     "name": "stdout",
     "output_type": "stream",
     "text": [
      "Good guess: ee*\n",
      "---------------\n",
      "You currently have 9 guesses left\n",
      "Available letters: abcfghijklmnopqrstuvwxyz\n"
     ]
    },
    {
     "name": "stdin",
     "output_type": "stream",
     "text": [
      "Please guess a letter:  w\n"
     ]
    },
    {
     "name": "stdout",
     "output_type": "stream",
     "text": [
      "Oops! That letter is not in my word: ee*\n",
      "---------------\n",
      "You currently have 8 guesses left\n",
      "Available letters: abcfghijklmnopqrstuvxyz\n"
     ]
    },
    {
     "name": "stdin",
     "output_type": "stream",
     "text": [
      "Please guess a letter:  q\n"
     ]
    },
    {
     "name": "stdout",
     "output_type": "stream",
     "text": [
      "Oops! That letter is not in my word: ee*\n",
      "---------------\n",
      "You currently have 7 guesses left\n",
      "Available letters: abcfghijklmnoprstuvxyz\n"
     ]
    },
    {
     "name": "stdin",
     "output_type": "stream",
     "text": [
      "Please guess a letter:  t\n"
     ]
    },
    {
     "name": "stdout",
     "output_type": "stream",
     "text": [
      "Oops! That letter is not in my word: ee*\n",
      "---------------\n",
      "You currently have 6 guesses left\n",
      "Available letters: abcfghijklmnoprsuvxyz\n"
     ]
    },
    {
     "name": "stdin",
     "output_type": "stream",
     "text": [
      "Please guess a letter:  r\n"
     ]
    },
    {
     "name": "stdout",
     "output_type": "stream",
     "text": [
      "Oops! That letter is not in my word: ee*\n",
      "---------------\n",
      "You currently have 5 guesses left\n",
      "Available letters: abcfghijklmnopsuvxyz\n"
     ]
    },
    {
     "name": "stdin",
     "output_type": "stream",
     "text": [
      "Please guess a letter:  q\n"
     ]
    },
    {
     "name": "stdout",
     "output_type": "stream",
     "text": [
      "Oops! You've already guessed that letter: ee*\n",
      "---------------\n",
      "You currently have 5 guesses left\n",
      "Available letters: abcfghijklmnopsuvxyz\n"
     ]
    },
    {
     "name": "stdin",
     "output_type": "stream",
     "text": [
      "Please guess a letter:  w\n"
     ]
    },
    {
     "name": "stdout",
     "output_type": "stream",
     "text": [
      "Oops! You've already guessed that letter: ee*\n",
      "---------------\n",
      "You currently have 5 guesses left\n",
      "Available letters: abcfghijklmnopsuvxyz\n"
     ]
    },
    {
     "name": "stdin",
     "output_type": "stream",
     "text": [
      "Please guess a letter:  r\n"
     ]
    },
    {
     "name": "stdout",
     "output_type": "stream",
     "text": [
      "Oops! You've already guessed that letter: ee*\n",
      "---------------\n",
      "You currently have 5 guesses left\n",
      "Available letters: abcfghijklmnopsuvxyz\n"
     ]
    },
    {
     "name": "stdin",
     "output_type": "stream",
     "text": [
      "Please guess a letter:  t\n"
     ]
    },
    {
     "name": "stdout",
     "output_type": "stream",
     "text": [
      "Oops! You've already guessed that letter: ee*\n",
      "---------------\n",
      "You currently have 5 guesses left\n",
      "Available letters: abcfghijklmnopsuvxyz\n"
     ]
    },
    {
     "name": "stdin",
     "output_type": "stream",
     "text": [
      "Please guess a letter:  y\n"
     ]
    },
    {
     "name": "stdout",
     "output_type": "stream",
     "text": [
      "Oops! That letter is not in my word: ee*\n",
      "---------------\n",
      "You currently have 4 guesses left\n",
      "Available letters: abcfghijklmnopsuvxz\n"
     ]
    },
    {
     "name": "stdin",
     "output_type": "stream",
     "text": [
      "Please guess a letter:  u\n"
     ]
    },
    {
     "name": "stdout",
     "output_type": "stream",
     "text": [
      "Oops! That letter is not in my word: ee*\n",
      "---------------\n",
      "You currently have 2 guesses left\n",
      "Available letters: abcfghijklmnopsvxz\n"
     ]
    },
    {
     "name": "stdin",
     "output_type": "stream",
     "text": [
      "Please guess a letter:  i\n"
     ]
    },
    {
     "name": "stdout",
     "output_type": "stream",
     "text": [
      "Oops! That letter is not in my word: ee*\n",
      "---------------\n",
      "Sorry, you ran out of guesses. The word was eel\n"
     ]
    }
   ],
   "source": [
    "words = [\"aardvark\", \"albatross\", \"alligator\", \"alpaca\", \"ant\", \"anteater\", \"antelope\", \"ape\", \"armadillo\", \"donkey\", \"baboon\", \n",
    "         \"badger\", \"barracuda\", \"bat\", \"bear\", \"beaver\",  \"bee\", \"bison\", \"boar\", \"buffalo\", \"butterfly\", \"camel\", \"capybara\", \n",
    "         \"caribou\", \"cassowary\", \"cat\", \"caterpillar\", \"cattle\", \"chamois\", \"cheetah\", \"chicken\", \"chimpanzee\", \"chinchilla\", \n",
    "         \"chough\", \"clam\", \"cobra\", \"cockroach\", \"cod\", \"cormorant\", \"coyote\", \"crab\", \"crane\", \"crocodile\", \"crow\", \"curlew\", \n",
    "         \"deer\", \"dinosaur\", \"dog\", \"dogfish\", \"dolphin\", \"dotterel\", \"dove\", \"dragonfly\", \"duck\", \"dugong\", \"dunlin\", \"eagle\", \n",
    "         \"echidna\", \"eel\", \"eland\", \"elephant\", \"elk\", \"emu\", \"falcon\", \"ferret\", \"finch\", \"fish\", \"flamingo\", \"fly\", \"fox\", \n",
    "         \"frog\", \"gaur\", \"gazelle\", \"gerbil\", \"giraffe\",  \"gnat\", \"gnu\", \"goat\", \"goldfinch\", \"goldfish\", \"goose\", \"gorilla\", \n",
    "         \"goshawk\", \"grasshopper\", \"grouse\", \"guanaco\", \"gull\", \"hamster\",\"hare\", \"hawk\", \"hedgehog\", \"heron\", \"herring\", \n",
    "         \"hippopotamus\", \"hornet\", \"horse\", \"human\", \"hummingbird\", \"hyena\", \"ibex\", \"ibis\", \"jackal\", \"jaguar\", \"jay\", \n",
    "         \"jellyfish\", \"kangaroo\", \"kingfisher\", \"koala\",  \"kookabura\", \"kouprey\", \"kudu\", \"lapwing\", \"lark\", \"lemur\", \"leopard\", \n",
    "         \"lion\", \"llama\", \"lobster\", \"locust\", \"loris\", \"louse\", \"lyrebird\", \"magpie\", \"mallard\", \"manatee\", \"mandrill\", \n",
    "         \"mantis\", \"marten\", \"meerkat\", \"mink\", \"mole\",  \"mongoose\", \"monkey\", \"moose\", \"mosquito\", \"mouse\", \"mule\", \"narwhal\", \n",
    "         \"newt\", \"nightingale\", \"octopus\", \"okapi\", \"opossum\", \"oryx\", \"ostrich\", \"otter\", \"owl\", \"oyster\", \"panther\", \"parrot\", \n",
    "         \"partridge\", \"peafowl\", \"pelican\", \"penguin\", \"pheasant\", \"pig\", \"pigeon\", \"pony\", \"porcupine\", \"porpoise\", \"quail\", \n",
    "         \"quelea\", \"quetzal\", \"rabbit\", \"raccoon\", \"rail\", \"ram\", \"rat\", \"raven\", \"reindeer\", \"rhinoceros\", \"rook\", \"salamander\", \n",
    "         \"salmon\", \"sandpiper\", \"Sardine\", \"Scorpion\", \"Seahorse\", \"Seal\", \"Shark\", \"Sheep\", \"Shrew\", \"Skunk\", \"Snail\", \"Snake\", \n",
    "         \"sparrow\", \"spider\", \"spoonbill\", \"squid\", \"squirrel\", \"starling\", \"stingray\", \"stinkbug\", \"stork\", \"swallow\", \"swan\", \n",
    "         \"tapir\", \"tarsier\", \"termite\", \"tiger\", \"toad\", \"trout\", \"turkey\", \"turtle\", \"viper\", \"vulture\", \"wallaby\", \"walrus\", \n",
    "         \"wasp\", \"weasel\",\"whale\",\"wildcat\", \"wolf\", \"wolverine\", \"wombat\", \"woodcock\", \"woodpecker\", \"worm\", \"wren\", \"yak\", \"zebra\"]\n",
    "\n",
    "secret_word = random.choice(words)\n",
    "\n",
    "play_game(secret_word, False)"
   ]
  }
 ],
 "metadata": {
  "kernelspec": {
   "display_name": "Python 3 (ipykernel)",
   "language": "python",
   "name": "python3"
  },
  "language_info": {
   "codemirror_mode": {
    "name": "ipython",
    "version": 3
   },
   "file_extension": ".py",
   "mimetype": "text/x-python",
   "name": "python",
   "nbconvert_exporter": "python",
   "pygments_lexer": "ipython3",
   "version": "3.12.4"
  }
 },
 "nbformat": 4,
 "nbformat_minor": 5
}
